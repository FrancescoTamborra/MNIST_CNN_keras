{
 "cells": [
  {
   "cell_type": "code",
   "execution_count": 1,
   "metadata": {},
   "outputs": [],
   "source": [
    "import json\n",
    "import numpy as np\n",
    "import matplotlib.pyplot as plt\n",
    "import seaborn as sns\n",
    "\n",
    "from tensorflow.keras.datasets import mnist # for CNN we want the non-flatten mnist dataset\n",
    "from sklearn.metrics import confusion_matrix\n",
    "from sklearn.model_selection import KFold\n",
    "from tensorflow.keras.models import Sequential\n",
    "from tensorflow.keras.layers import Conv2D, MaxPooling2D, Dense, Flatten, Dropout\n",
    "from tensorflow.keras.utils import to_categorical"
   ]
  },
  {
   "cell_type": "markdown",
   "metadata": {},
   "source": [
    "## Utility functions"
   ]
  },
  {
   "cell_type": "code",
   "execution_count": 33,
   "metadata": {},
   "outputs": [],
   "source": [
    "# plot performances\n",
    "def model_performance(mean_histories, epochs=10, n_folds=5):\n",
    "    \n",
    "    fig, (ax0, ax1) = plt.subplots(nrows=1, ncols=2,figsize=(15, 5))  \n",
    "    # plot loss\n",
    "    ax0.set_title('Cross Entropy Loss')\n",
    "    ax0.plot(range(1,epochs+1), mean_histories[0], color='black')\n",
    "    ax0.plot(range(1,epochs+1), mean_histories[1], color='red', linestyle='dashed')\n",
    "    ax0.set_xlabel('Epochs')\n",
    "    ax0.set_xticks(range(1,epochs+1))\n",
    "    ax0.legend(['train', 'validation'], loc='upper right')\n",
    "    # plot accuracy\n",
    "    ax1.set_title('Accuracy')\n",
    "    ax1.plot(range(1,epochs+1), mean_histories[2], color='black')\n",
    "    ax1.plot(range(1,epochs+1), mean_histories[3], color='red', linestyle='dashed')\n",
    "    ax1.set_xlabel('Epochs')\n",
    "    ax1.set_xticks(range(1,epochs+1))\n",
    "    ax1.legend(['train', 'validation'], loc='lower right')\n",
    "\n",
    "    fig.suptitle('{}-fold cross-validation'.format(n_folds))\n",
    "    plt.show()"
   ]
  },
  {
   "cell_type": "code",
   "execution_count": 3,
   "metadata": {},
   "outputs": [],
   "source": [
    "# score\n",
    "def score(model, testX, testY):\n",
    "    sco = model.evaluate(\n",
    "        testX,\n",
    "        to_categorical(testY)\n",
    "    )\n",
    "    result = \"This model achieved {:.3f} test loss and {:.2f} % test accuracy\".format(sco[0], sco[1]*100)\n",
    "    return result"
   ]
  },
  {
   "cell_type": "markdown",
   "metadata": {},
   "source": [
    "## Dataset loading and pre-treatment"
   ]
  },
  {
   "cell_type": "code",
   "execution_count": 4,
   "metadata": {},
   "outputs": [],
   "source": [
    "(trainX, trainY), (testX, testY) = mnist.load_data()"
   ]
  },
  {
   "cell_type": "code",
   "execution_count": 5,
   "metadata": {},
   "outputs": [
    {
     "name": "stdout",
     "output_type": "stream",
     "text": [
      "(60000, 28, 28)\n",
      "(60000,)\n"
     ]
    }
   ],
   "source": [
    "print(trainX.shape) # (60000, 28, 28)\n",
    "print(trainY.shape) # (60000,)"
   ]
  },
  {
   "cell_type": "code",
   "execution_count": 6,
   "metadata": {},
   "outputs": [],
   "source": [
    "# Normalizing in the interval [-0.5, 0.5]\n",
    "trainX = (trainX / 255) - 0.5\n",
    "testX = (testX / 255) - 0.5"
   ]
  },
  {
   "cell_type": "code",
   "execution_count": 7,
   "metadata": {},
   "outputs": [
    {
     "name": "stdout",
     "output_type": "stream",
     "text": [
      "(60000, 28, 28, 1)\n",
      "(10000, 28, 28, 1)\n"
     ]
    }
   ],
   "source": [
    "# Reshaping the images (keras expects a 3D array)\n",
    "trainX = np.expand_dims(trainX, axis=3)\n",
    "testX = np.expand_dims(testX, axis=3)\n",
    "\n",
    "print(trainX.shape) # (60000, 28, 28, 1)\n",
    "print(testX.shape)  # (10000, 28, 28, 1)"
   ]
  },
  {
   "cell_type": "markdown",
   "metadata": {},
   "source": [
    "## Model"
   ]
  },
  {
   "cell_type": "code",
   "execution_count": 8,
   "metadata": {},
   "outputs": [],
   "source": [
    "# reasonable \"best\" model ?? https://www.kaggle.com/cdeotte/how-to-choose-cnn-architecture-mnist\n",
    "def define_best_model():\n",
    "    model = Sequential()\n",
    "    model.add(Conv2D(32, kernel_size=5, padding='same', activation='relu', input_shape=(28, 28, 1)))\n",
    "    model.add(MaxPooling2D())\n",
    "    model.add(Dropout(0.4))\n",
    "    model.add(Conv2D(64, kernel_size=5, padding='same', activation='relu'))\n",
    "    model.add(MaxPooling2D())\n",
    "    model.add(Dropout(0.4))\n",
    "    model.add(Flatten())\n",
    "    model.add(Dense(128, activation='relu'))\n",
    "    model.add(Dropout(0.4))\n",
    "    model.add(Dense(10, activation='softmax'))\n",
    "\n",
    "\n",
    "    model.compile(\n",
    "        optimizer='adam',\n",
    "        loss='categorical_crossentropy',\n",
    "        metrics=['accuracy'],\n",
    "    )\n",
    "    return model"
   ]
  },
  {
   "cell_type": "code",
   "execution_count": 9,
   "metadata": {},
   "outputs": [
    {
     "name": "stdout",
     "output_type": "stream",
     "text": [
      "Model: \"sequential\"\n",
      "_________________________________________________________________\n",
      "Layer (type)                 Output Shape              Param #   \n",
      "=================================================================\n",
      "conv2d (Conv2D)              (None, 28, 28, 32)        832       \n",
      "_________________________________________________________________\n",
      "max_pooling2d (MaxPooling2D) (None, 14, 14, 32)        0         \n",
      "_________________________________________________________________\n",
      "dropout (Dropout)            (None, 14, 14, 32)        0         \n",
      "_________________________________________________________________\n",
      "conv2d_1 (Conv2D)            (None, 14, 14, 64)        51264     \n",
      "_________________________________________________________________\n",
      "max_pooling2d_1 (MaxPooling2 (None, 7, 7, 64)          0         \n",
      "_________________________________________________________________\n",
      "dropout_1 (Dropout)          (None, 7, 7, 64)          0         \n",
      "_________________________________________________________________\n",
      "flatten (Flatten)            (None, 3136)              0         \n",
      "_________________________________________________________________\n",
      "dense (Dense)                (None, 128)               401536    \n",
      "_________________________________________________________________\n",
      "dropout_2 (Dropout)          (None, 128)               0         \n",
      "_________________________________________________________________\n",
      "dense_1 (Dense)              (None, 10)                1290      \n",
      "=================================================================\n",
      "Total params: 454,922\n",
      "Trainable params: 454,922\n",
      "Non-trainable params: 0\n",
      "_________________________________________________________________\n",
      "None\n"
     ]
    }
   ],
   "source": [
    "print(define_best_model().summary())"
   ]
  },
  {
   "cell_type": "markdown",
   "metadata": {},
   "source": [
    "## Model evaluation"
   ]
  },
  {
   "cell_type": "code",
   "execution_count": 10,
   "metadata": {},
   "outputs": [],
   "source": [
    "def evaluate_model(model, dataX, dataY, n_folds=5, epochs=8, verbose=0, batch_size=32):\n",
    "    histories = list()\n",
    "    kfold = KFold(n_folds, shuffle=True, random_state=42)\n",
    "    for train_index, test_index in kfold.split(dataX):\n",
    "        trainX, testX = dataX[train_index], dataX[test_index]\n",
    "        trainY, testY = dataY[train_index], dataY[test_index]\n",
    "        # fit model\n",
    "        history = model.fit(\n",
    "            trainX,\n",
    "            to_categorical(trainY),\n",
    "            epochs=epochs,\n",
    "            batch_size=batch_size,\n",
    "            validation_data=(testX, to_categorical(testY)),\n",
    "            verbose=verbose\n",
    "        )\n",
    "        histories.append(history)\n",
    "    return histories"
   ]
  },
  {
   "cell_type": "code",
   "execution_count": 12,
   "metadata": {
    "scrolled": false
   },
   "outputs": [
    {
     "name": "stdout",
     "output_type": "stream",
     "text": [
      "Epoch 1/10\n",
      "1500/1500 - 120s - loss: 0.2355 - accuracy: 0.9263 - val_loss: 0.0545 - val_accuracy: 0.9849\n",
      "Epoch 2/10\n",
      "1500/1500 - 120s - loss: 0.0909 - accuracy: 0.9729 - val_loss: 0.0399 - val_accuracy: 0.9879\n",
      "Epoch 3/10\n",
      "1500/1500 - 107s - loss: 0.0703 - accuracy: 0.9791 - val_loss: 0.0370 - val_accuracy: 0.9900\n",
      "Epoch 4/10\n",
      "1500/1500 - 141s - loss: 0.0602 - accuracy: 0.9811 - val_loss: 0.0360 - val_accuracy: 0.9900\n",
      "Epoch 5/10\n",
      "1500/1500 - 136s - loss: 0.0515 - accuracy: 0.9845 - val_loss: 0.0367 - val_accuracy: 0.9891\n",
      "Epoch 6/10\n",
      "1500/1500 - 136s - loss: 0.0477 - accuracy: 0.9852 - val_loss: 0.0295 - val_accuracy: 0.9919\n",
      "Epoch 7/10\n",
      "1500/1500 - 102s - loss: 0.0459 - accuracy: 0.9857 - val_loss: 0.0271 - val_accuracy: 0.9918\n",
      "Epoch 8/10\n",
      "1500/1500 - 116s - loss: 0.0411 - accuracy: 0.9875 - val_loss: 0.0290 - val_accuracy: 0.9919\n",
      "Epoch 9/10\n",
      "1500/1500 - 107s - loss: 0.0412 - accuracy: 0.9871 - val_loss: 0.0314 - val_accuracy: 0.9918\n",
      "Epoch 10/10\n",
      "1500/1500 - 106s - loss: 0.0405 - accuracy: 0.9876 - val_loss: 0.0263 - val_accuracy: 0.9933\n",
      "Epoch 1/10\n",
      "1500/1500 - 107s - loss: 0.0435 - accuracy: 0.9871 - val_loss: 0.0120 - val_accuracy: 0.9962\n",
      "Epoch 2/10\n",
      "1500/1500 - 111s - loss: 0.0381 - accuracy: 0.9885 - val_loss: 0.0116 - val_accuracy: 0.9962\n",
      "Epoch 3/10\n",
      "1500/1500 - 120s - loss: 0.0375 - accuracy: 0.9887 - val_loss: 0.0129 - val_accuracy: 0.9960\n",
      "Epoch 4/10\n",
      "1500/1500 - 129s - loss: 0.0354 - accuracy: 0.9895 - val_loss: 0.0135 - val_accuracy: 0.9950\n",
      "Epoch 5/10\n",
      "1500/1500 - 101s - loss: 0.0345 - accuracy: 0.9902 - val_loss: 0.0139 - val_accuracy: 0.9952\n",
      "Epoch 6/10\n",
      "1500/1500 - 114s - loss: 0.0356 - accuracy: 0.9893 - val_loss: 0.0149 - val_accuracy: 0.9958\n",
      "Epoch 7/10\n",
      "1500/1500 - 112s - loss: 0.0336 - accuracy: 0.9903 - val_loss: 0.0167 - val_accuracy: 0.9953\n",
      "Epoch 8/10\n",
      "1500/1500 - 114s - loss: 0.0341 - accuracy: 0.9902 - val_loss: 0.0152 - val_accuracy: 0.9949\n",
      "Epoch 9/10\n",
      "1500/1500 - 115s - loss: 0.0308 - accuracy: 0.9906 - val_loss: 0.0155 - val_accuracy: 0.9945\n",
      "Epoch 10/10\n",
      "1500/1500 - 134s - loss: 0.0320 - accuracy: 0.9903 - val_loss: 0.0165 - val_accuracy: 0.9950\n",
      "Epoch 1/10\n",
      "1500/1500 - 110s - loss: 0.0317 - accuracy: 0.9904 - val_loss: 0.0084 - val_accuracy: 0.9977\n",
      "Epoch 2/10\n",
      "1500/1500 - 157s - loss: 0.0330 - accuracy: 0.9902 - val_loss: 0.0088 - val_accuracy: 0.9978\n",
      "Epoch 3/10\n",
      "1500/1500 - 108s - loss: 0.0331 - accuracy: 0.9900 - val_loss: 0.0116 - val_accuracy: 0.9965\n",
      "Epoch 4/10\n",
      "1500/1500 - 118s - loss: 0.0316 - accuracy: 0.9906 - val_loss: 0.0120 - val_accuracy: 0.9962\n",
      "Epoch 5/10\n",
      "1500/1500 - 102s - loss: 0.0295 - accuracy: 0.9909 - val_loss: 0.0152 - val_accuracy: 0.9958\n",
      "Epoch 6/10\n",
      "1500/1500 - 97s - loss: 0.0308 - accuracy: 0.9907 - val_loss: 0.0103 - val_accuracy: 0.9969\n",
      "Epoch 7/10\n",
      "1500/1500 - 99s - loss: 0.0255 - accuracy: 0.9916 - val_loss: 0.0114 - val_accuracy: 0.9964\n",
      "Epoch 8/10\n",
      "1500/1500 - 114s - loss: 0.0303 - accuracy: 0.9909 - val_loss: 0.0108 - val_accuracy: 0.9963\n",
      "Epoch 9/10\n",
      "1500/1500 - 122s - loss: 0.0293 - accuracy: 0.9912 - val_loss: 0.0141 - val_accuracy: 0.9950\n",
      "Epoch 10/10\n",
      "1500/1500 - 105s - loss: 0.0280 - accuracy: 0.9919 - val_loss: 0.0120 - val_accuracy: 0.9967\n",
      "Epoch 1/10\n",
      "1500/1500 - 114s - loss: 0.0320 - accuracy: 0.9909 - val_loss: 0.0056 - val_accuracy: 0.9985\n",
      "Epoch 2/10\n",
      "1500/1500 - 138s - loss: 0.0318 - accuracy: 0.9909 - val_loss: 0.0061 - val_accuracy: 0.9977\n",
      "Epoch 3/10\n",
      "1500/1500 - 97s - loss: 0.0289 - accuracy: 0.9921 - val_loss: 0.0068 - val_accuracy: 0.9976\n",
      "Epoch 4/10\n",
      "1500/1500 - 93s - loss: 0.0311 - accuracy: 0.9910 - val_loss: 0.0084 - val_accuracy: 0.9973\n",
      "Epoch 5/10\n",
      "1500/1500 - 90s - loss: 0.0293 - accuracy: 0.9918 - val_loss: 0.0067 - val_accuracy: 0.9979\n",
      "Epoch 6/10\n",
      "1500/1500 - 91s - loss: 0.0263 - accuracy: 0.9923 - val_loss: 0.0087 - val_accuracy: 0.9968\n",
      "Epoch 7/10\n",
      "1500/1500 - 107s - loss: 0.0274 - accuracy: 0.9919 - val_loss: 0.0100 - val_accuracy: 0.9967\n",
      "Epoch 8/10\n",
      "1500/1500 - 105s - loss: 0.0277 - accuracy: 0.9920 - val_loss: 0.0104 - val_accuracy: 0.9967\n",
      "Epoch 9/10\n",
      "1500/1500 - 110s - loss: 0.0266 - accuracy: 0.9922 - val_loss: 0.0110 - val_accuracy: 0.9975\n",
      "Epoch 10/10\n",
      "1500/1500 - 106s - loss: 0.0281 - accuracy: 0.9920 - val_loss: 0.0097 - val_accuracy: 0.9966\n",
      "Epoch 1/10\n",
      "1500/1500 - 109s - loss: 0.0293 - accuracy: 0.9917 - val_loss: 0.0029 - val_accuracy: 0.9989\n",
      "Epoch 2/10\n",
      "1500/1500 - 99s - loss: 0.0283 - accuracy: 0.9921 - val_loss: 0.0033 - val_accuracy: 0.9989\n",
      "Epoch 3/10\n",
      "1500/1500 - 101s - loss: 0.0288 - accuracy: 0.9918 - val_loss: 0.0035 - val_accuracy: 0.9990\n",
      "Epoch 4/10\n",
      "1500/1500 - 119s - loss: 0.0258 - accuracy: 0.9929 - val_loss: 0.0040 - val_accuracy: 0.9990\n",
      "Epoch 5/10\n",
      "1500/1500 - 114s - loss: 0.0282 - accuracy: 0.9913 - val_loss: 0.0038 - val_accuracy: 0.9987\n",
      "Epoch 6/10\n",
      "1500/1500 - 113s - loss: 0.0276 - accuracy: 0.9925 - val_loss: 0.0079 - val_accuracy: 0.9974\n",
      "Epoch 7/10\n",
      "1500/1500 - 110s - loss: 0.0261 - accuracy: 0.9927 - val_loss: 0.0051 - val_accuracy: 0.9983\n",
      "Epoch 8/10\n",
      "1500/1500 - 114s - loss: 0.0250 - accuracy: 0.9932 - val_loss: 0.0078 - val_accuracy: 0.9978\n",
      "Epoch 9/10\n",
      "1500/1500 - 108s - loss: 0.0286 - accuracy: 0.9918 - val_loss: 0.0080 - val_accuracy: 0.9966\n",
      "Epoch 10/10\n",
      "1500/1500 - 112s - loss: 0.0286 - accuracy: 0.9914 - val_loss: 0.0066 - val_accuracy: 0.9977\n"
     ]
    }
   ],
   "source": [
    "histories_best_model = evaluate_model(define_best_model(), trainX, trainY, verbose=2, epochs=10)"
   ]
  },
  {
   "cell_type": "markdown",
   "metadata": {},
   "source": [
    "## Save evaluation"
   ]
  },
  {
   "cell_type": "code",
   "execution_count": 88,
   "metadata": {
    "scrolled": true
   },
   "outputs": [],
   "source": [
    "list_histories = []\n",
    "for h in histories_best_model:\n",
    "    list_histories.append(json.dumps(h.history))\n",
    "    \n",
    "json.dump(list_histories, open('list_histories.txt', 'w'), indent=4)"
   ]
  },
  {
   "cell_type": "markdown",
   "metadata": {},
   "source": [
    "## Average over folds"
   ]
  },
  {
   "cell_type": "markdown",
   "metadata": {},
   "source": [
    "For one history object, h, we can easily access the dictionary with h.history\n",
    "\n",
    "When dealing with a list of history object as in our case things get complicated because we cannot json-serialize any type of structure containing tensorflow history objects.\n",
    "\n",
    "The solution is to pass by strings (json.dumps) and then reconvert to dictionaries taking care of all issues related to bad formatting (' instead of \")"
   ]
  },
  {
   "cell_type": "code",
   "execution_count": 25,
   "metadata": {},
   "outputs": [],
   "source": [
    "with open('list_histories.txt') as json_file:\n",
    "    data = json.load(json_file)"
   ]
  },
  {
   "cell_type": "code",
   "execution_count": 32,
   "metadata": {},
   "outputs": [
    {
     "name": "stdout",
     "output_type": "stream",
     "text": [
      "[[0.07441142 0.04443521 0.03972556 0.03681433 0.03459292 0.03360146\n",
      "  0.03169024 0.03163478 0.03128464 0.03145959]\n",
      " [0.01667102 0.01393492 0.01435988 0.01475912 0.01526412 0.01427984\n",
      "  0.01405832 0.01465244 0.01600939 0.01424224]\n",
      " [0.97728748 0.98690834 0.98833749 0.98904585 0.98973333 0.98999166\n",
      "  0.99044584 0.99077083 0.99057918 0.99064583]\n",
      " [0.99525    0.99573332 0.99581667 0.99551667 0.99533333 0.99578333\n",
      "  0.9957     0.99555    0.99508333 0.99585   ]]\n"
     ]
    }
   ],
   "source": [
    "# Average over folds\n",
    "# Let's build a tensor with size: (nb_attr, nb_folds, nb_epochs)\n",
    "T = np.zeros(shape=(4,5,10))\n",
    "\n",
    "for idx, h in enumerate(data):\n",
    "    hj = json.loads(h.replace(\"''\",'\"')) # because of json.dumps\n",
    "    T[0][idx] = hj['loss']\n",
    "    T[1][idx] = hj['val_loss']\n",
    "    T[2][idx] = hj['accuracy']\n",
    "    T[3][idx] = hj['val_accuracy']\n",
    "\n",
    "# average over folds\n",
    "histories_av = np.mean(T, axis=1)\n",
    "print(histories_av)"
   ]
  },
  {
   "cell_type": "code",
   "execution_count": 36,
   "metadata": {},
   "outputs": [
    {
     "data": {
      "image/png": "[encoded data removed]",
      "text/plain": [
       "<Figure size 1080x360 with 2 Axes>"
      ]
     },
     "metadata": {
      "needs_background": "light"
     },
     "output_type": "display_data"
    }
   ],
   "source": [
    "model_performance(histories_av)"
   ]
  },
  {
   "cell_type": "code",
   "execution_count": 121,
   "metadata": {},
   "outputs": [],
   "source": [
    "final_model = define_best_model()"
   ]
  },
  {
   "cell_type": "code",
   "execution_count": 122,
   "metadata": {},
   "outputs": [
    {
     "name": "stdout",
     "output_type": "stream",
     "text": [
      "Epoch 1/10\n",
      "1875/1875 [==============================] - 144s 76ms/step - loss: 0.4452 - accuracy: 0.8566\n",
      "Epoch 2/10\n",
      "1875/1875 [==============================] - 132s 71ms/step - loss: 0.0906 - accuracy: 0.9709\n",
      "Epoch 3/10\n",
      "1875/1875 [==============================] - 136s 73ms/step - loss: 0.0709 - accuracy: 0.9779\n",
      "Epoch 4/10\n",
      "1875/1875 [==============================] - 121s 64ms/step - loss: 0.0574 - accuracy: 0.9823\n",
      "Epoch 5/10\n",
      "1875/1875 [==============================] - 121s 65ms/step - loss: 0.0552 - accuracy: 0.9838\n",
      "Epoch 6/10\n",
      "1875/1875 [==============================] - 135s 72ms/step - loss: 0.0493 - accuracy: 0.9851\n",
      "Epoch 7/10\n",
      "1875/1875 [==============================] - 137s 73ms/step - loss: 0.0449 - accuracy: 0.9861\n",
      "Epoch 8/10\n",
      "1875/1875 [==============================] - 149s 79ms/step - loss: 0.0393 - accuracy: 0.9878\n",
      "Epoch 9/10\n",
      "1875/1875 [==============================] - 129s 69ms/step - loss: 0.0404 - accuracy: 0.9875\n",
      "Epoch 10/10\n",
      "1875/1875 [==============================] - 136s 73ms/step - loss: 0.0389 - accuracy: 0.9884\n"
     ]
    },
    {
     "data": {
      "text/plain": [
       "<tensorflow.python.keras.callbacks.History at 0x7fa78bfaa8e0>"
      ]
     },
     "execution_count": 122,
     "metadata": {},
     "output_type": "execute_result"
    }
   ],
   "source": [
    "final_model.fit(\n",
    "    trainX,\n",
    "    to_categorical(trainY),\n",
    "    epochs=10,\n",
    "    batch_size=32\n",
    ")"
   ]
  },
  {
   "cell_type": "code",
   "execution_count": 127,
   "metadata": {},
   "outputs": [
    {
     "name": "stdout",
     "output_type": "stream",
     "text": [
      "313/313 [==============================] - 5s 15ms/step - loss: 0.0221 - accuracy: 0.9928\n"
     ]
    },
    {
     "data": {
      "text/plain": [
       "'This model achieved 0.022 test loss and 99.28 % test accuracy'"
      ]
     },
     "execution_count": 127,
     "metadata": {},
     "output_type": "execute_result"
    }
   ],
   "source": [
    "score(final_model, testX, testY)"
   ]
  },
  {
   "cell_type": "code",
   "execution_count": 128,
   "metadata": {},
   "outputs": [],
   "source": [
    "# Store the predictions\n",
    "predictions = final_model.predict(testX)\n",
    "predicted = np.argmax(predictions, axis=1)"
   ]
  },
  {
   "cell_type": "code",
   "execution_count": 129,
   "metadata": {},
   "outputs": [
    {
     "data": {
      "image/png": "[encoded data removed]",
      "text/plain": [
       "<Figure size 720x576 with 12 Axes>"
      ]
     },
     "metadata": {
      "needs_background": "light"
     },
     "output_type": "display_data"
    }
   ],
   "source": [
    "# We randomly pick 12 images\n",
    "images = testX.reshape((-1, 28, 28))\n",
    "\n",
    "select = np.random.randint(testX.shape[0], size=12)\n",
    "\n",
    "fig = plt.figure(figsize=(10,8))\n",
    "for index, value in enumerate(select):\n",
    "    fig.add_subplot(3,4,index+1)\n",
    "    plt.axis('off')\n",
    "    plt.imshow((images[value]+0.5)*255,cmap=plt.cm.gray_r,interpolation=\"nearest\")\n",
    "    plt.title('Predicted: {}'.format(predicted[value]))\n"
   ]
  },
  {
   "cell_type": "code",
   "execution_count": 130,
   "metadata": {
    "scrolled": false
   },
   "outputs": [
    {
     "data": {
      "text/plain": [
       "<AxesSubplot:>"
      ]
     },
     "execution_count": 130,
     "metadata": {},
     "output_type": "execute_result"
    },
    {
     "data": {
      "image/png": "[encoded data removed]",
      "text/plain": [
       "<Figure size 720x720 with 2 Axes>"
      ]
     },
     "metadata": {
      "needs_background": "light"
     },
     "output_type": "display_data"
    }
   ],
   "source": [
    "cf_matrix = confusion_matrix(testY, predicted)\n",
    "plt.figure(figsize=(10,10))\n",
    "sns.heatmap(cf_matrix / sum(cf_matrix), fmt = '.2%', annot=True, cmap='Blues')"
   ]
  },
  {
   "cell_type": "code",
   "execution_count": null,
   "metadata": {},
   "outputs": [],
   "source": []
  }
 ],
 "metadata": {
  "kernelspec": {
   "display_name": "Python 3",
   "language": "python",
   "name": "python3"
  },
  "language_info": {
   "codemirror_mode": {
    "name": "ipython",
    "version": 3
   },
   "file_extension": ".py",
   "mimetype": "text/x-python",
   "name": "python",
   "nbconvert_exporter": "python",
   "pygments_lexer": "ipython3",
   "version": "3.8.5"
  }
 },
 "nbformat": 4,
 "nbformat_minor": 2
}
